{
 "cells": [
  {
   "cell_type": "code",
   "execution_count": 1,
   "id": "b27413ad",
   "metadata": {},
   "outputs": [
    {
     "name": "stdout",
     "output_type": "stream",
     "text": [
      "CUDA Available: True\n",
      "Device Name: NVIDIA GeForce RTX 3060 Laptop GPU\n",
      "CUDA Version: 12.6\n"
     ]
    }
   ],
   "source": [
    "import torch\n",
    "\n",
    "print(\"CUDA Available:\", torch.cuda.is_available())\n",
    "if torch.cuda.is_available():\n",
    "    print(\"Device Name:\", torch.cuda.get_device_name(0))\n",
    "    print(\"CUDA Version:\", torch.version.cuda)\n"
   ]
  },
  {
   "cell_type": "code",
   "execution_count": 3,
   "id": "d972e25e",
   "metadata": {},
   "outputs": [],
   "source": [
    "import pandas as pd \n",
    "\n",
    "data = pd.read_csv('../dataset/icml_face_data.csv')\n"
   ]
  },
  {
   "cell_type": "code",
   "execution_count": 24,
   "id": "e46c75de",
   "metadata": {},
   "outputs": [
    {
     "data": {
      "text/plain": [
       "emotion\n",
       "3    25.048068\n",
       "6    17.270878\n",
       "4    16.933709\n",
       "2    14.269791\n",
       "0    13.801655\n",
       "5    11.151671\n",
       "1     1.524229\n",
       "Name: proportion, dtype: float64"
      ]
     },
     "execution_count": 24,
     "metadata": {},
     "output_type": "execute_result"
    }
   ],
   "source": [
    "data['emotion'].value_counts(normalize=True)*100"
   ]
  },
  {
   "cell_type": "code",
   "execution_count": 13,
   "id": "d357078f",
   "metadata": {},
   "outputs": [
    {
     "data": {
      "text/html": [
       "<div>\n",
       "<style scoped>\n",
       "    .dataframe tbody tr th:only-of-type {\n",
       "        vertical-align: middle;\n",
       "    }\n",
       "\n",
       "    .dataframe tbody tr th {\n",
       "        vertical-align: top;\n",
       "    }\n",
       "\n",
       "    .dataframe thead th {\n",
       "        text-align: right;\n",
       "    }\n",
       "</style>\n",
       "<table border=\"1\" class=\"dataframe\">\n",
       "  <thead>\n",
       "    <tr style=\"text-align: right;\">\n",
       "      <th></th>\n",
       "      <th>emotion</th>\n",
       "      <th>Usage</th>\n",
       "      <th>pixels</th>\n",
       "    </tr>\n",
       "  </thead>\n",
       "  <tbody>\n",
       "    <tr>\n",
       "      <th>299</th>\n",
       "      <td>1</td>\n",
       "      <td>Training</td>\n",
       "      <td>126 126 129 120 110 168 174 172 173 174 170 15...</td>\n",
       "    </tr>\n",
       "    <tr>\n",
       "      <th>388</th>\n",
       "      <td>1</td>\n",
       "      <td>Training</td>\n",
       "      <td>89 55 24 40 43 48 53 55 59 41 33 31 22 32 42 4...</td>\n",
       "    </tr>\n",
       "    <tr>\n",
       "      <th>416</th>\n",
       "      <td>1</td>\n",
       "      <td>Training</td>\n",
       "      <td>204 195 181 131 50 50 57 56 66 98 138 161 173 ...</td>\n",
       "    </tr>\n",
       "    <tr>\n",
       "      <th>473</th>\n",
       "      <td>1</td>\n",
       "      <td>Training</td>\n",
       "      <td>14 11 13 12 41 95 113 112 111 122 132 137 142 ...</td>\n",
       "    </tr>\n",
       "    <tr>\n",
       "      <th>533</th>\n",
       "      <td>1</td>\n",
       "      <td>Training</td>\n",
       "      <td>18 25 49 75 89 97 100 100 101 103 105 107 107 ...</td>\n",
       "    </tr>\n",
       "    <tr>\n",
       "      <th>...</th>\n",
       "      <td>...</td>\n",
       "      <td>...</td>\n",
       "      <td>...</td>\n",
       "    </tr>\n",
       "    <tr>\n",
       "      <th>35406</th>\n",
       "      <td>1</td>\n",
       "      <td>PrivateTest</td>\n",
       "      <td>48 34 21 18 16 21 26 36 40 44 53 57 64 82 95 9...</td>\n",
       "    </tr>\n",
       "    <tr>\n",
       "      <th>35409</th>\n",
       "      <td>1</td>\n",
       "      <td>PrivateTest</td>\n",
       "      <td>98 103 107 105 100 103 108 112 110 109 109 112...</td>\n",
       "    </tr>\n",
       "    <tr>\n",
       "      <th>35580</th>\n",
       "      <td>1</td>\n",
       "      <td>PrivateTest</td>\n",
       "      <td>247 247 247 246 252 224 150 215 207 202 197 19...</td>\n",
       "    </tr>\n",
       "    <tr>\n",
       "      <th>35786</th>\n",
       "      <td>1</td>\n",
       "      <td>PrivateTest</td>\n",
       "      <td>186 146 50 42 43 35 48 93 124 146 167 168 170 ...</td>\n",
       "    </tr>\n",
       "    <tr>\n",
       "      <th>35841</th>\n",
       "      <td>1</td>\n",
       "      <td>PrivateTest</td>\n",
       "      <td>58 83 97 101 104 105 107 107 107 108 108 107 1...</td>\n",
       "    </tr>\n",
       "  </tbody>\n",
       "</table>\n",
       "<p>547 rows × 3 columns</p>\n",
       "</div>"
      ],
      "text/plain": [
       "       emotion        Usage                                             pixels\n",
       "299          1     Training  126 126 129 120 110 168 174 172 173 174 170 15...\n",
       "388          1     Training  89 55 24 40 43 48 53 55 59 41 33 31 22 32 42 4...\n",
       "416          1     Training  204 195 181 131 50 50 57 56 66 98 138 161 173 ...\n",
       "473          1     Training  14 11 13 12 41 95 113 112 111 122 132 137 142 ...\n",
       "533          1     Training  18 25 49 75 89 97 100 100 101 103 105 107 107 ...\n",
       "...        ...          ...                                                ...\n",
       "35406        1  PrivateTest  48 34 21 18 16 21 26 36 40 44 53 57 64 82 95 9...\n",
       "35409        1  PrivateTest  98 103 107 105 100 103 108 112 110 109 109 112...\n",
       "35580        1  PrivateTest  247 247 247 246 252 224 150 215 207 202 197 19...\n",
       "35786        1  PrivateTest  186 146 50 42 43 35 48 93 124 146 167 168 170 ...\n",
       "35841        1  PrivateTest  58 83 97 101 104 105 107 107 107 108 108 107 1...\n",
       "\n",
       "[547 rows x 3 columns]"
      ]
     },
     "execution_count": 13,
     "metadata": {},
     "output_type": "execute_result"
    }
   ],
   "source": [
    "data[data['emotion'] == 1]"
   ]
  },
  {
   "cell_type": "code",
   "execution_count": 14,
   "id": "7ffe8cbc",
   "metadata": {},
   "outputs": [
    {
     "data": {
      "image/png": "[encoded data removed]",
      "text/plain": [
       "<Figure size 640x480 with 1 Axes>"
      ]
     },
     "metadata": {},
     "output_type": "display_data"
    }
   ],
   "source": [
    "import numpy as np\n",
    "import matplotlib.pyplot as plt\n",
    "id = 299\n",
    "label = int(data.iloc[id]['emotion'])\n",
    "pixel_seq = data.iloc[id, 2]\n",
    "image = np.fromstring(pixel_seq, sep=' ', dtype=np.uint8).reshape(48, 48)\n",
    "\n",
    "plt.imshow(image, cmap='gray')  # Show as grayscale\n",
    "plt.title(f'Emotion label: {label}')\n",
    "plt.axis('off')  # Hide axis ticks\n",
    "plt.show()\n"
   ]
  }
 ],
 "metadata": {
  "kernelspec": {
   "display_name": "venv",
   "language": "python",
   "name": "python3"
  },
  "language_info": {
   "codemirror_mode": {
    "name": "ipython",
    "version": 3
   },
   "file_extension": ".py",
   "mimetype": "text/x-python",
   "name": "python",
   "nbconvert_exporter": "python",
   "pygments_lexer": "ipython3",
   "version": "3.11.11"
  }
 },
 "nbformat": 4,
 "nbformat_minor": 5
}
