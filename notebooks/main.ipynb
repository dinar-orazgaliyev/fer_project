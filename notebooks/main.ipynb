{
 "cells": [
  {
   "cell_type": "code",
   "execution_count": 1,
   "id": "b27413ad",
   "metadata": {},
   "outputs": [
    {
     "name": "stdout",
     "output_type": "stream",
     "text": [
      "CUDA Available: True\n",
      "Device Name: NVIDIA GeForce RTX 3060 Laptop GPU\n",
      "CUDA Version: 12.6\n"
     ]
    }
   ],
   "source": [
    "import torch\n",
    "\n",
    "print(\"CUDA Available:\", torch.cuda.is_available())\n",
    "if torch.cuda.is_available():\n",
    "    print(\"Device Name:\", torch.cuda.get_device_name(0))\n",
    "    print(\"CUDA Version:\", torch.version.cuda)\n"
   ]
  },
  {
   "cell_type": "code",
   "execution_count": 2,
   "id": "d972e25e",
   "metadata": {},
   "outputs": [],
   "source": [
    "import pandas as pd \n",
    "\n",
    "data = pd.read_csv('../dataset/icml_face_data.csv')\n"
   ]
  },
  {
   "cell_type": "code",
   "execution_count": 3,
   "id": "7ffe8cbc",
   "metadata": {},
   "outputs": [
    {
     "data": {
      "image/png": "[encoded data removed]",
      "text/plain": [
       "<Figure size 640x480 with 1 Axes>"
      ]
     },
     "metadata": {},
     "output_type": "display_data"
    }
   ],
   "source": [
    "import numpy as np\n",
    "import matplotlib.pyplot as plt\n",
    "id = 45 \n",
    "label = int(data.iloc[id]['emotion'])\n",
    "pixel_seq = data.iloc[id, 2]\n",
    "image = np.fromstring(pixel_seq, sep=' ', dtype=np.uint8).reshape(48, 48)\n",
    "\n",
    "plt.imshow(image, cmap='gray')  # Show as grayscale\n",
    "plt.title(f'Emotion label: {label}')\n",
    "plt.axis('off')  # Hide axis ticks\n",
    "plt.show()\n"
   ]
  },
  {
   "cell_type": "code",
   "execution_count": 1,
   "id": "43b9e7aa",
   "metadata": {},
   "outputs": [],
   "source": [
    "import sys\n",
    "sys.path.append(\"..\")  # or \".\" depending on notebook location\n",
    "\n",
    "import yaml \n",
    "\n",
    "with open(\"../cfgs/cnn_fer.yaml\",\"r\") as f:\n",
    "    cfg = yaml.safe_load(f)\n"
   ]
  },
  {
   "cell_type": "code",
   "execution_count": 5,
   "id": "d07b1f05",
   "metadata": {},
   "outputs": [
    {
     "name": "stdout",
     "output_type": "stream",
     "text": [
      "✅ Image batch shape: torch.Size([1, 1, 48, 48])\n",
      "✅ Labels shape: torch.Size([1])\n",
      "✅ Unique labels in batch: tensor([4])\n"
     ]
    }
   ],
   "source": [
    "from utils.dataset import DataModule\n",
    "from torchvision import transforms\n",
    "\n",
    "\n",
    "# Define any transform (optional)\n",
    "transform = transforms.Compose([\n",
    "    transforms.Normalize(mean=[0.5], std=[0.5])\n",
    "])\n",
    "#cfg = cnn_fer.cfg\n",
    "# Extract data config\n",
    "data_cfg = cfg['data_args']\n",
    "\n",
    "# Initialize data module\n",
    "dm = DataModule(\n",
    "    path=data_cfg['path'],\n",
    "    transform=transform,\n",
    "    batch_size=data_cfg['batch_size'],\n",
    "    num_workers=data_cfg['num_workers'],\n",
    "    shuffle=True,\n",
    "    pin_memory=data_cfg['pin_memory']\n",
    ")\n",
    "\n",
    "# Get train loader\n",
    "train_loader = dm.get_train_loader()\n",
    "\n",
    "# Fetch one batch and inspect\n",
    "for labels, images in train_loader:\n",
    "    print(f\"✅ Image batch shape: {images.shape}\")   # Expected: (64, 1, 48, 48)\n",
    "    print(f\"✅ Labels shape: {labels.shape}\")         # Expected: (64,)\n",
    "    print(f\"✅ Unique labels in batch: {labels.unique()}\")\n",
    "    break\n"
   ]
  },
  {
   "cell_type": "code",
   "execution_count": 2,
   "id": "e56767ff",
   "metadata": {},
   "outputs": [],
   "source": [
    "from models.convnetfer_model import ConvNetFer\n",
    "\n",
    "model = eval(cfg['model_name'])(**cfg['model_args'])\n"
   ]
  }
 ],
 "metadata": {
  "kernelspec": {
   "display_name": "venv",
   "language": "python",
   "name": "python3"
  },
  "language_info": {
   "codemirror_mode": {
    "name": "ipython",
    "version": 3
   },
   "file_extension": ".py",
   "mimetype": "text/x-python",
   "name": "python",
   "nbconvert_exporter": "python",
   "pygments_lexer": "ipython3",
   "version": "3.11.11"
  }
 },
 "nbformat": 4,
 "nbformat_minor": 5
}
