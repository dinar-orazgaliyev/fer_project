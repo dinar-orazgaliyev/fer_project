{
 "cells": [
  {
   "cell_type": "code",
   "execution_count": 1,
   "id": "b27413ad",
   "metadata": {},
   "outputs": [
    {
     "name": "stdout",
     "output_type": "stream",
     "text": [
      "CUDA Available: True\n",
      "Device Name: NVIDIA GeForce RTX 3060 Laptop GPU\n",
      "CUDA Version: 12.6\n"
     ]
    }
   ],
   "source": [
    "import torch\n",
    "\n",
    "print(\"CUDA Available:\", torch.cuda.is_available())\n",
    "if torch.cuda.is_available():\n",
    "    print(\"Device Name:\", torch.cuda.get_device_name(0))\n",
    "    print(\"CUDA Version:\", torch.version.cuda)\n"
   ]
  },
  {
   "cell_type": "code",
   "execution_count": 11,
   "id": "d972e25e",
   "metadata": {},
   "outputs": [],
   "source": [
    "import pandas as pd \n",
    "\n",
    "data = pd.read_csv('../dataset/icml_face_data.csv')\n"
   ]
  },
  {
   "cell_type": "code",
   "execution_count": 24,
   "id": "e46c75de",
   "metadata": {},
   "outputs": [
    {
     "data": {
      "text/plain": [
       "emotion\n",
       "3    25.048068\n",
       "6    17.270878\n",
       "4    16.933709\n",
       "2    14.269791\n",
       "0    13.801655\n",
       "5    11.151671\n",
       "1     1.524229\n",
       "Name: proportion, dtype: float64"
      ]
     },
     "execution_count": 24,
     "metadata": {},
     "output_type": "execute_result"
    }
   ],
   "source": [
    "data['emotion'].value_counts(normalize=True)*100"
   ]
  },
  {
   "cell_type": "code",
   "execution_count": 21,
   "id": "d357078f",
   "metadata": {},
   "outputs": [
    {
     "data": {
      "text/html": [
       "<div>\n",
       "<style scoped>\n",
       "    .dataframe tbody tr th:only-of-type {\n",
       "        vertical-align: middle;\n",
       "    }\n",
       "\n",
       "    .dataframe tbody tr th {\n",
       "        vertical-align: top;\n",
       "    }\n",
       "\n",
       "    .dataframe thead th {\n",
       "        text-align: right;\n",
       "    }\n",
       "</style>\n",
       "<table border=\"1\" class=\"dataframe\">\n",
       "  <thead>\n",
       "    <tr style=\"text-align: right;\">\n",
       "      <th></th>\n",
       "      <th>emotion</th>\n",
       "      <th>Usage</th>\n",
       "      <th>pixels</th>\n",
       "    </tr>\n",
       "  </thead>\n",
       "  <tbody>\n",
       "    <tr>\n",
       "      <th>7</th>\n",
       "      <td>3</td>\n",
       "      <td>Training</td>\n",
       "      <td>77 78 79 79 78 75 60 55 47 48 58 73 77 79 57 5...</td>\n",
       "    </tr>\n",
       "    <tr>\n",
       "      <th>8</th>\n",
       "      <td>3</td>\n",
       "      <td>Training</td>\n",
       "      <td>85 84 90 121 101 102 133 153 153 169 177 189 1...</td>\n",
       "    </tr>\n",
       "    <tr>\n",
       "      <th>14</th>\n",
       "      <td>3</td>\n",
       "      <td>Training</td>\n",
       "      <td>4 2 13 41 56 62 67 87 95 62 65 70 80 107 127 1...</td>\n",
       "    </tr>\n",
       "    <tr>\n",
       "      <th>16</th>\n",
       "      <td>3</td>\n",
       "      <td>Training</td>\n",
       "      <td>14 14 18 28 27 22 21 30 42 61 77 86 88 95 100 ...</td>\n",
       "    </tr>\n",
       "    <tr>\n",
       "      <th>24</th>\n",
       "      <td>3</td>\n",
       "      <td>Training</td>\n",
       "      <td>252 250 246 229 182 140 98 72 53 44 67 95 95 8...</td>\n",
       "    </tr>\n",
       "    <tr>\n",
       "      <th>...</th>\n",
       "      <td>...</td>\n",
       "      <td>...</td>\n",
       "      <td>...</td>\n",
       "    </tr>\n",
       "    <tr>\n",
       "      <th>35867</th>\n",
       "      <td>3</td>\n",
       "      <td>PrivateTest</td>\n",
       "      <td>198 198 197 196 196 197 196 196 196 195 196 18...</td>\n",
       "    </tr>\n",
       "    <tr>\n",
       "      <th>35869</th>\n",
       "      <td>3</td>\n",
       "      <td>PrivateTest</td>\n",
       "      <td>217 220 222 223 223 224 225 223 223 225 223 22...</td>\n",
       "    </tr>\n",
       "    <tr>\n",
       "      <th>35878</th>\n",
       "      <td>3</td>\n",
       "      <td>PrivateTest</td>\n",
       "      <td>0 39 81 80 104 97 51 64 68 46 41 67 53 68 70 5...</td>\n",
       "    </tr>\n",
       "    <tr>\n",
       "      <th>35883</th>\n",
       "      <td>3</td>\n",
       "      <td>PrivateTest</td>\n",
       "      <td>178 174 172 173 181 188 191 194 196 199 200 20...</td>\n",
       "    </tr>\n",
       "    <tr>\n",
       "      <th>35885</th>\n",
       "      <td>3</td>\n",
       "      <td>PrivateTest</td>\n",
       "      <td>30 28 28 29 31 30 42 68 79 81 77 67 67 71 63 6...</td>\n",
       "    </tr>\n",
       "  </tbody>\n",
       "</table>\n",
       "<p>8989 rows × 3 columns</p>\n",
       "</div>"
      ],
      "text/plain": [
       "       emotion        Usage                                             pixels\n",
       "7            3     Training  77 78 79 79 78 75 60 55 47 48 58 73 77 79 57 5...\n",
       "8            3     Training  85 84 90 121 101 102 133 153 153 169 177 189 1...\n",
       "14           3     Training  4 2 13 41 56 62 67 87 95 62 65 70 80 107 127 1...\n",
       "16           3     Training  14 14 18 28 27 22 21 30 42 61 77 86 88 95 100 ...\n",
       "24           3     Training  252 250 246 229 182 140 98 72 53 44 67 95 95 8...\n",
       "...        ...          ...                                                ...\n",
       "35867        3  PrivateTest  198 198 197 196 196 197 196 196 196 195 196 18...\n",
       "35869        3  PrivateTest  217 220 222 223 223 224 225 223 223 225 223 22...\n",
       "35878        3  PrivateTest  0 39 81 80 104 97 51 64 68 46 41 67 53 68 70 5...\n",
       "35883        3  PrivateTest  178 174 172 173 181 188 191 194 196 199 200 20...\n",
       "35885        3  PrivateTest  30 28 28 29 31 30 42 68 79 81 77 67 67 71 63 6...\n",
       "\n",
       "[8989 rows x 3 columns]"
      ]
     },
     "execution_count": 21,
     "metadata": {},
     "output_type": "execute_result"
    }
   ],
   "source": [
    "data[data['emotion'] == 3]"
   ]
  },
  {
   "cell_type": "code",
   "execution_count": 22,
   "id": "7ffe8cbc",
   "metadata": {},
   "outputs": [
    {
     "data": {
      "image/png": "[encoded data removed]",
      "text/plain": [
       "<Figure size 640x480 with 1 Axes>"
      ]
     },
     "metadata": {},
     "output_type": "display_data"
    }
   ],
   "source": [
    "import numpy as np\n",
    "import matplotlib.pyplot as plt\n",
    "id = 7\n",
    "label = int(data.iloc[id]['emotion'])\n",
    "pixel_seq = data.iloc[id, 2]\n",
    "image = np.fromstring(pixel_seq, sep=' ', dtype=np.uint8).reshape(48, 48)\n",
    "\n",
    "plt.imshow(image, cmap='gray')  # Show as grayscale\n",
    "plt.title(f'Emotion label: {label}')\n",
    "plt.axis('off')  # Hide axis ticks\n",
    "plt.show()\n"
   ]
  },
  {
   "cell_type": "code",
   "execution_count": 4,
   "id": "43b9e7aa",
   "metadata": {},
   "outputs": [],
   "source": [
    "import sys\n",
    "sys.path.append(\"..\")  # or \".\" depending on notebook location\n",
    "\n",
    "import yaml \n",
    "\n",
    "with open(\"../cfgs/cnn_fer.yaml\",\"r\") as f:\n",
    "    cfg = yaml.safe_load(f)\n"
   ]
  },
  {
   "cell_type": "code",
   "execution_count": 5,
   "id": "bec28c98",
   "metadata": {},
   "outputs": [],
   "source": [
    "import sys\n",
    "sys.path.append(\"..\")  # or \".\" depending on notebook location\n",
    "\n",
    "import yaml \n",
    "from utils.dataset import DataModule\n",
    "from torchvision import transforms\n",
    "\n",
    "# Define any transform (optional)\n",
    "transform = transforms.Compose([\n",
    "    transforms.RandomHorizontalFlip(p=0.5),        # Flip images horizontally\n",
    "    transforms.RandomRotation(degrees=10),         # Slight random rotation\n",
    "    transforms.RandomCrop(48, padding=4),          # Random crop with padding\n",
    "    # transforms.ToTensor(),                         # Convert to tensor (if not already)\n",
    "    transforms.Normalize(mean=[0.5], std=[0.5]),   # Normalize\n",
    "])\n",
    "\n",
    "with open(\"../cfgs/cnn_fer.yaml\",\"r\") as f:\n",
    "    cfg = yaml.safe_load(f)\n",
    "data_cfg = cfg['data_args']\n",
    "dm = DataModule(\n",
    "    path=data_cfg['path'],\n",
    "    transform=transform,\n",
    "    batch_size=data_cfg['batch_size'],\n",
    "    num_workers=data_cfg['num_workers'],\n",
    "    shuffle=True,\n",
    "    pin_memory=data_cfg['pin_memory']\n",
    ")"
   ]
  },
  {
   "cell_type": "code",
   "execution_count": 6,
   "id": "e56767ff",
   "metadata": {},
   "outputs": [],
   "source": [
    "from models.convnetfer_model import ConvNetFer\n",
    "import torch.nn as nn\n",
    "\n",
    "# cfg['model_args']['activation'] = eval( cfg['model_args']['activation'])  # e.g., 'nn.ReLU' → nn.ReLU\n",
    "# cfg['model_args']['norm_layer'] = eval(cfg['model_args']['norm_layer'])\n",
    "#model = eval(cfg['model_name'])(**cfg['model_args'])\n"
   ]
  },
  {
   "cell_type": "code",
   "execution_count": 7,
   "id": "369a226f",
   "metadata": {},
   "outputs": [],
   "source": [
    "train_loader = dm.get_train_loader()\n",
    "eval_loader = dm.get_val_loader()"
   ]
  },
  {
   "cell_type": "code",
   "execution_count": 8,
   "id": "92e632cc",
   "metadata": {},
   "outputs": [
    {
     "name": "stdout",
     "output_type": "stream",
     "text": [
      "Sequential(\n",
      "  (0): Conv2d(1, 128, kernel_size=(5, 5), stride=(1, 1), padding=(2, 2))\n",
      "  (1): BatchNorm2d(128, eps=1e-05, momentum=0.1, affine=True, track_running_stats=True)\n",
      "  (2): ReLU(inplace=True)\n",
      "  (3): MaxPool2d(kernel_size=2, stride=2, padding=0, dilation=1, ceil_mode=False)\n",
      "  (4): Dropout(p=0.3, inplace=False)\n",
      "  (5): Conv2d(128, 128, kernel_size=(5, 5), stride=(1, 1), padding=(2, 2))\n",
      "  (6): BatchNorm2d(128, eps=1e-05, momentum=0.1, affine=True, track_running_stats=True)\n",
      "  (7): ReLU(inplace=True)\n",
      "  (8): MaxPool2d(kernel_size=2, stride=2, padding=0, dilation=1, ceil_mode=False)\n",
      "  (9): Dropout(p=0.3, inplace=False)\n",
      "  (10): Conv2d(128, 128, kernel_size=(5, 5), stride=(1, 1), padding=(2, 2))\n",
      "  (11): BatchNorm2d(128, eps=1e-05, momentum=0.1, affine=True, track_running_stats=True)\n",
      "  (12): ReLU(inplace=True)\n",
      "  (13): MaxPool2d(kernel_size=2, stride=2, padding=0, dilation=1, ceil_mode=False)\n",
      "  (14): Dropout(p=0.3, inplace=False)\n",
      "  (15): Conv2d(128, 64, kernel_size=(3, 3), stride=(1, 1), padding=(1, 1))\n",
      "  (16): BatchNorm2d(64, eps=1e-05, momentum=0.1, affine=True, track_running_stats=True)\n",
      "  (17): ReLU(inplace=True)\n",
      "  (18): Dropout(p=0.3, inplace=False)\n",
      "  (19): Conv2d(64, 64, kernel_size=(3, 3), stride=(1, 1), padding=(1, 1))\n",
      "  (20): BatchNorm2d(64, eps=1e-05, momentum=0.1, affine=True, track_running_stats=True)\n",
      "  (21): ReLU(inplace=True)\n",
      "  (22): Dropout(p=0.3, inplace=False)\n",
      "  (23): Conv2d(64, 16, kernel_size=(3, 3), stride=(1, 1), padding=(1, 1))\n",
      "  (24): BatchNorm2d(16, eps=1e-05, momentum=0.1, affine=True, track_running_stats=True)\n",
      "  (25): ReLU(inplace=True)\n",
      "  (26): Dropout(p=0.3, inplace=False)\n",
      ")\n",
      "Dummy input shape: torch.Size([1, 1, 48, 48])\n"
     ]
    }
   ],
   "source": [
    "from trainers.cnn_trainer import CNNTrainer\n",
    "\n",
    "cnn_trainer = CNNTrainer(config = cfg, log_dir='../log/',train_loader=train_loader,eval_loader=eval_loader)"
   ]
  },
  {
   "cell_type": "code",
   "execution_count": 9,
   "id": "6308872e",
   "metadata": {},
   "outputs": [
    {
     "data": {
      "text/plain": [
       "ConvNetFer(\n",
       "  (layers): Sequential(\n",
       "    (0): Conv2d(1, 128, kernel_size=(5, 5), stride=(1, 1), padding=(2, 2))\n",
       "    (1): BatchNorm2d(128, eps=1e-05, momentum=0.1, affine=True, track_running_stats=True)\n",
       "    (2): ReLU(inplace=True)\n",
       "    (3): MaxPool2d(kernel_size=2, stride=2, padding=0, dilation=1, ceil_mode=False)\n",
       "    (4): Dropout(p=0.3, inplace=False)\n",
       "    (5): Conv2d(128, 128, kernel_size=(5, 5), stride=(1, 1), padding=(2, 2))\n",
       "    (6): BatchNorm2d(128, eps=1e-05, momentum=0.1, affine=True, track_running_stats=True)\n",
       "    (7): ReLU(inplace=True)\n",
       "    (8): MaxPool2d(kernel_size=2, stride=2, padding=0, dilation=1, ceil_mode=False)\n",
       "    (9): Dropout(p=0.3, inplace=False)\n",
       "    (10): Conv2d(128, 128, kernel_size=(5, 5), stride=(1, 1), padding=(2, 2))\n",
       "    (11): BatchNorm2d(128, eps=1e-05, momentum=0.1, affine=True, track_running_stats=True)\n",
       "    (12): ReLU(inplace=True)\n",
       "    (13): MaxPool2d(kernel_size=2, stride=2, padding=0, dilation=1, ceil_mode=False)\n",
       "    (14): Dropout(p=0.3, inplace=False)\n",
       "    (15): Conv2d(128, 64, kernel_size=(3, 3), stride=(1, 1), padding=(1, 1))\n",
       "    (16): BatchNorm2d(64, eps=1e-05, momentum=0.1, affine=True, track_running_stats=True)\n",
       "    (17): ReLU(inplace=True)\n",
       "    (18): Dropout(p=0.3, inplace=False)\n",
       "    (19): Conv2d(64, 64, kernel_size=(3, 3), stride=(1, 1), padding=(1, 1))\n",
       "    (20): BatchNorm2d(64, eps=1e-05, momentum=0.1, affine=True, track_running_stats=True)\n",
       "    (21): ReLU(inplace=True)\n",
       "    (22): Dropout(p=0.3, inplace=False)\n",
       "    (23): Conv2d(64, 16, kernel_size=(3, 3), stride=(1, 1), padding=(1, 1))\n",
       "    (24): BatchNorm2d(16, eps=1e-05, momentum=0.1, affine=True, track_running_stats=True)\n",
       "    (25): ReLU(inplace=True)\n",
       "    (26): Dropout(p=0.3, inplace=False)\n",
       "  )\n",
       "  (classifier): Sequential(\n",
       "    (0): Linear(in_features=576, out_features=24, bias=True)\n",
       "    (1): LayerNorm((24,), eps=1e-05, elementwise_affine=True)\n",
       "    (2): ReLU()\n",
       "    (3): Linear(in_features=24, out_features=7, bias=True)\n",
       "  )\n",
       ")"
      ]
     },
     "execution_count": 9,
     "metadata": {},
     "output_type": "execute_result"
    }
   ],
   "source": [
    "cnn_trainer.model"
   ]
  },
  {
   "cell_type": "code",
   "execution_count": 10,
   "id": "aad8f8fd",
   "metadata": {},
   "outputs": [
    {
     "name": "stderr",
     "output_type": "stream",
     "text": [
      "Epoch 1/50:  67%|██████▋   | 38/57 [00:17<00:08,  2.16batch/s, loss=1.8287]\n"
     ]
    },
    {
     "ename": "KeyboardInterrupt",
     "evalue": "",
     "output_type": "error",
     "traceback": [
      "\u001b[31m---------------------------------------------------------------------------\u001b[39m",
      "\u001b[31mKeyboardInterrupt\u001b[39m                         Traceback (most recent call last)",
      "\u001b[36mCell\u001b[39m\u001b[36m \u001b[39m\u001b[32mIn[10]\u001b[39m\u001b[32m, line 1\u001b[39m\n\u001b[32m----> \u001b[39m\u001b[32m1\u001b[39m \u001b[43mcnn_trainer\u001b[49m\u001b[43m.\u001b[49m\u001b[43mtrain\u001b[49m\u001b[43m(\u001b[49m\u001b[43m)\u001b[49m\n",
      "\u001b[36mFile \u001b[39m\u001b[32m/home/dior00002/HLCV/project/notebooks/../trainers/base_trainer.py:47\u001b[39m, in \u001b[36mBaseTrainer.train\u001b[39m\u001b[34m(self, patience, min_delta)\u001b[39m\n\u001b[32m     45\u001b[39m \u001b[38;5;28mself\u001b[39m.logger.info(\u001b[33mf\u001b[39m\u001b[33m\"\u001b[39m\u001b[33mepoch \u001b[39m\u001b[38;5;132;01m{\u001b[39;00mepoch\u001b[38;5;132;01m}\u001b[39;00m\u001b[33m\"\u001b[39m)\n\u001b[32m     46\u001b[39m \u001b[38;5;28mself\u001b[39m.current_epoch = epoch\n\u001b[32m---> \u001b[39m\u001b[32m47\u001b[39m train_results = \u001b[38;5;28;43mself\u001b[39;49m\u001b[43m.\u001b[49m\u001b[43m_train_epoch\u001b[49m\u001b[43m(\u001b[49m\u001b[43m)\u001b[49m\n\u001b[32m     48\u001b[39m log = {\u001b[33m\"\u001b[39m\u001b[33mepoch\u001b[39m\u001b[33m\"\u001b[39m: epoch}\n\u001b[32m     49\u001b[39m log.update(train_results)\n",
      "\u001b[36mFile \u001b[39m\u001b[32m/home/dior00002/HLCV/project/notebooks/../trainers/cnn_trainer.py:58\u001b[39m, in \u001b[36mCNNTrainer._train_epoch\u001b[39m\u001b[34m(self)\u001b[39m\n\u001b[32m     56\u001b[39m loss.backward()\n\u001b[32m     57\u001b[39m \u001b[38;5;28mself\u001b[39m.optimizer.step()\n\u001b[32m---> \u001b[39m\u001b[32m58\u001b[39m running_loss += \u001b[43mloss\u001b[49m\u001b[43m.\u001b[49m\u001b[43mitem\u001b[49m\u001b[43m(\u001b[49m\u001b[43m)\u001b[49m * images.size(\u001b[32m0\u001b[39m)\n\u001b[32m     59\u001b[39m _, predicted = torch.max(outputs, \u001b[32m1\u001b[39m)\n\u001b[32m     60\u001b[39m correct += (predicted == labels).sum().item()\n",
      "\u001b[31mKeyboardInterrupt\u001b[39m: "
     ]
    }
   ],
   "source": [
    "cnn_trainer.train()"
   ]
  },
  {
   "cell_type": "code",
   "execution_count": null,
   "id": "d37cccd4",
   "metadata": {},
   "outputs": [],
   "source": []
  },
  {
   "cell_type": "code",
   "execution_count": 1,
   "id": "706a7c64",
   "metadata": {},
   "outputs": [],
   "source": [
    "import sys\n",
    "sys.path.append(\"..\")  # or \".\" depending on notebook location\n",
    "\n",
    "import yaml \n",
    "from utils.dataset import DataModule\n",
    "from torchvision import transforms\n",
    "\n",
    "# Define any transform (optional)\n",
    "transform = transforms.Compose([\n",
    "    transforms.ToPILImage(),  # Convert tensor to PIL for augmentations\n",
    "    transforms.RandomHorizontalFlip(p=0.5),\n",
    "    transforms.RandomRotation(degrees=10),\n",
    "    transforms.RandomCrop(48, padding=4),\n",
    "    transforms.ToTensor(),  # Back to tensor, now in [0,1]\n",
    "    transforms.Normalize(mean=[0.485, 0.456, 0.406], std=[0.229, 0.224, 0.225])\n",
    "])\n",
    "\n",
    "with open(\"../cfgs/resnet_fer.yaml\",\"r\") as f:\n",
    "    cfg = yaml.safe_load(f)\n",
    "data_cfg = cfg['data_args']\n",
    "dm = DataModule(\n",
    "    path=data_cfg['path'],\n",
    "    transform=transform,\n",
    "    batch_size=data_cfg['batch_size'],\n",
    "    num_workers=data_cfg['num_workers'],\n",
    "    shuffle=True,\n",
    "    pin_memory=data_cfg['pin_memory']\n",
    ")"
   ]
  },
  {
   "cell_type": "code",
   "execution_count": 2,
   "id": "111ec1a0",
   "metadata": {},
   "outputs": [],
   "source": [
    "train_loader = dm.get_train_loader()\n",
    "eval_loader = dm.get_val_loader()"
   ]
  },
  {
   "cell_type": "code",
   "execution_count": 3,
   "id": "98761b57",
   "metadata": {},
   "outputs": [
    {
     "name": "stderr",
     "output_type": "stream",
     "text": [
      "/home/dior00002/HLCV/project/venv/lib/python3.11/site-packages/torchvision/models/_utils.py:208: UserWarning: The parameter 'pretrained' is deprecated since 0.13 and may be removed in the future, please use 'weights' instead.\n",
      "  warnings.warn(\n",
      "/home/dior00002/HLCV/project/venv/lib/python3.11/site-packages/torchvision/models/_utils.py:223: UserWarning: Arguments other than a weight enum or `None` for 'weights' are deprecated since 0.13 and may be removed in the future. The current behavior is equivalent to passing `weights=ResNet18_Weights.IMAGENET1K_V1`. You can also use `weights=ResNet18_Weights.DEFAULT` to get the most up-to-date weights.\n",
      "  warnings.warn(msg)\n"
     ]
    }
   ],
   "source": [
    "%load_ext autoreload\n",
    "%autoreload 2\n",
    "\n",
    "from trainers.resnet_trainer import ResNetTrainer\n",
    "\n",
    "resnet_trainer = ResNetTrainer(config = cfg, log_dir='../log/',train_loader=train_loader,eval_loader=eval_loader)"
   ]
  },
  {
   "cell_type": "code",
   "execution_count": 4,
   "id": "884d4bbf",
   "metadata": {},
   "outputs": [
    {
     "name": "stderr",
     "output_type": "stream",
     "text": [
      "Epoch 1/50: 100%|██████████| 57/57 [00:15<00:00,  3.79batch/s, loss=1.7578]\n"
     ]
    },
    {
     "name": "stdout",
     "output_type": "stream",
     "text": [
      "Epoch 1/50 Train Loss: 1.5535 Acc: 0.4122 | Val Loss: 1.8784 Acc: 0.2728\n"
     ]
    },
    {
     "name": "stderr",
     "output_type": "stream",
     "text": [
      "Epoch 2/50: 100%|██████████| 57/57 [00:15<00:00,  3.75batch/s, loss=0.9764]\n"
     ]
    },
    {
     "name": "stdout",
     "output_type": "stream",
     "text": [
      "Epoch 2/50 Train Loss: 1.2733 Acc: 0.5148 | Val Loss: 1.6136 Acc: 0.3619\n"
     ]
    },
    {
     "name": "stderr",
     "output_type": "stream",
     "text": [
      "Epoch 3/50: 100%|██████████| 57/57 [00:15<00:00,  3.77batch/s, loss=1.1317]\n"
     ]
    },
    {
     "name": "stdout",
     "output_type": "stream",
     "text": [
      "Epoch 3/50 Train Loss: 1.1687 Acc: 0.5586 | Val Loss: 1.5367 Acc: 0.3870\n"
     ]
    },
    {
     "name": "stderr",
     "output_type": "stream",
     "text": [
      "Epoch 4/50: 100%|██████████| 57/57 [00:15<00:00,  3.72batch/s, loss=1.4069]\n"
     ]
    },
    {
     "name": "stdout",
     "output_type": "stream",
     "text": [
      "Epoch 4/50 Train Loss: 1.1211 Acc: 0.5755 | Val Loss: 1.4331 Acc: 0.4193\n"
     ]
    },
    {
     "name": "stderr",
     "output_type": "stream",
     "text": [
      "Epoch 5/50: 100%|██████████| 57/57 [00:15<00:00,  3.80batch/s, loss=0.7508]\n"
     ]
    },
    {
     "name": "stdout",
     "output_type": "stream",
     "text": [
      "Epoch 5/50 Train Loss: 1.0862 Acc: 0.5925 | Val Loss: 1.5363 Acc: 0.3848\n"
     ]
    },
    {
     "name": "stderr",
     "output_type": "stream",
     "text": [
      "Epoch 6/50: 100%|██████████| 57/57 [00:14<00:00,  3.85batch/s, loss=0.9777]\n"
     ]
    },
    {
     "name": "stdout",
     "output_type": "stream",
     "text": [
      "Epoch 6/50 Train Loss: 1.0409 Acc: 0.6090 | Val Loss: 1.3902 Acc: 0.4492\n"
     ]
    },
    {
     "name": "stderr",
     "output_type": "stream",
     "text": [
      "Epoch 7/50: 100%|██████████| 57/57 [00:16<00:00,  3.55batch/s, loss=1.0236]\n"
     ]
    },
    {
     "name": "stdout",
     "output_type": "stream",
     "text": [
      "Epoch 7/50 Train Loss: 1.0331 Acc: 0.6123 | Val Loss: 1.3363 Acc: 0.4776\n"
     ]
    },
    {
     "name": "stderr",
     "output_type": "stream",
     "text": [
      "Epoch 8/50: 100%|██████████| 57/57 [00:15<00:00,  3.69batch/s, loss=1.1389]\n"
     ]
    },
    {
     "name": "stdout",
     "output_type": "stream",
     "text": [
      "Epoch 8/50 Train Loss: 1.0059 Acc: 0.6216 | Val Loss: 1.5026 Acc: 0.4469\n"
     ]
    },
    {
     "name": "stderr",
     "output_type": "stream",
     "text": [
      "Epoch 9/50: 100%|██████████| 57/57 [00:15<00:00,  3.68batch/s, loss=1.0712]\n"
     ]
    },
    {
     "name": "stdout",
     "output_type": "stream",
     "text": [
      "Epoch 9/50 Train Loss: 1.0635 Acc: 0.5972 | Val Loss: 1.4611 Acc: 0.4542\n"
     ]
    },
    {
     "name": "stderr",
     "output_type": "stream",
     "text": [
      "Epoch 10/50: 100%|██████████| 57/57 [00:15<00:00,  3.64batch/s, loss=1.0080]\n"
     ]
    },
    {
     "name": "stdout",
     "output_type": "stream",
     "text": [
      "Epoch 10/50 Train Loss: 1.0218 Acc: 0.6160 | Val Loss: 1.3998 Acc: 0.4634\n"
     ]
    },
    {
     "name": "stderr",
     "output_type": "stream",
     "text": [
      "Epoch 11/50: 100%|██████████| 57/57 [00:15<00:00,  3.68batch/s, loss=0.7806]\n"
     ]
    },
    {
     "name": "stdout",
     "output_type": "stream",
     "text": [
      "Epoch 11/50 Train Loss: 0.9663 Acc: 0.6362 | Val Loss: 1.3815 Acc: 0.4776\n"
     ]
    },
    {
     "name": "stderr",
     "output_type": "stream",
     "text": [
      "Epoch 12/50: 100%|██████████| 57/57 [00:15<00:00,  3.63batch/s, loss=0.8285]\n"
     ]
    },
    {
     "name": "stdout",
     "output_type": "stream",
     "text": [
      "Epoch 12/50 Train Loss: 0.9498 Acc: 0.6445 | Val Loss: 1.3607 Acc: 0.4840\n"
     ]
    },
    {
     "name": "stderr",
     "output_type": "stream",
     "text": [
      "Epoch 13/50: 100%|██████████| 57/57 [00:15<00:00,  3.61batch/s, loss=1.1034]\n"
     ]
    },
    {
     "name": "stdout",
     "output_type": "stream",
     "text": [
      "Epoch 13/50 Train Loss: 0.9201 Acc: 0.6544 | Val Loss: 1.3758 Acc: 0.4767\n"
     ]
    },
    {
     "name": "stderr",
     "output_type": "stream",
     "text": [
      "Epoch 14/50: 100%|██████████| 57/57 [00:15<00:00,  3.69batch/s, loss=1.2707]\n"
     ]
    },
    {
     "name": "stdout",
     "output_type": "stream",
     "text": [
      "Epoch 14/50 Train Loss: 0.9185 Acc: 0.6560 | Val Loss: 1.4854 Acc: 0.4327\n"
     ]
    },
    {
     "name": "stderr",
     "output_type": "stream",
     "text": [
      "Epoch 15/50: 100%|██████████| 57/57 [00:17<00:00,  3.30batch/s, loss=0.7032]\n"
     ]
    },
    {
     "name": "stdout",
     "output_type": "stream",
     "text": [
      "Epoch 15/50 Train Loss: 0.9198 Acc: 0.6522 | Val Loss: 1.4208 Acc: 0.4249\n"
     ]
    },
    {
     "name": "stderr",
     "output_type": "stream",
     "text": [
      "Epoch 16/50: 100%|██████████| 57/57 [00:17<00:00,  3.34batch/s, loss=0.8560]\n"
     ]
    },
    {
     "name": "stdout",
     "output_type": "stream",
     "text": [
      "Epoch 16/50 Train Loss: 0.8746 Acc: 0.6729 | Val Loss: 1.3712 Acc: 0.4918\n"
     ]
    },
    {
     "name": "stderr",
     "output_type": "stream",
     "text": [
      "Epoch 17/50: 100%|██████████| 57/57 [00:16<00:00,  3.55batch/s, loss=0.7054]\n"
     ]
    },
    {
     "name": "stdout",
     "output_type": "stream",
     "text": [
      "Epoch 17/50 Train Loss: 0.8559 Acc: 0.6796 | Val Loss: 1.5143 Acc: 0.4422\n"
     ]
    },
    {
     "name": "stderr",
     "output_type": "stream",
     "text": [
      "Epoch 18/50: 100%|██████████| 57/57 [00:16<00:00,  3.46batch/s, loss=0.9162]\n"
     ]
    },
    {
     "name": "stdout",
     "output_type": "stream",
     "text": [
      "Epoch 18/50 Train Loss: 0.8468 Acc: 0.6829 | Val Loss: 1.3907 Acc: 0.4896\n"
     ]
    },
    {
     "name": "stderr",
     "output_type": "stream",
     "text": [
      "Epoch 19/50: 100%|██████████| 57/57 [00:16<00:00,  3.44batch/s, loss=1.1950]\n"
     ]
    },
    {
     "name": "stdout",
     "output_type": "stream",
     "text": [
      "Epoch 19/50 Train Loss: 0.8299 Acc: 0.6872 | Val Loss: 1.6295 Acc: 0.3851\n"
     ]
    },
    {
     "name": "stderr",
     "output_type": "stream",
     "text": [
      "Epoch 20/50: 100%|██████████| 57/57 [00:17<00:00,  3.25batch/s, loss=0.7551]\n"
     ]
    },
    {
     "name": "stdout",
     "output_type": "stream",
     "text": [
      "Epoch 20/50 Train Loss: 0.8332 Acc: 0.6865 | Val Loss: 1.4886 Acc: 0.4536\n"
     ]
    },
    {
     "name": "stderr",
     "output_type": "stream",
     "text": [
      "Epoch 21/50: 100%|██████████| 57/57 [00:16<00:00,  3.56batch/s, loss=0.8837]\n"
     ]
    },
    {
     "name": "stdout",
     "output_type": "stream",
     "text": [
      "Epoch 21/50 Train Loss: 0.8146 Acc: 0.6957 | Val Loss: 1.5306 Acc: 0.4497\n"
     ]
    },
    {
     "name": "stderr",
     "output_type": "stream",
     "text": [
      "Epoch 22/50: 100%|██████████| 57/57 [00:15<00:00,  3.60batch/s, loss=0.7699]\n"
     ]
    },
    {
     "name": "stdout",
     "output_type": "stream",
     "text": [
      "Epoch 22/50 Train Loss: 0.8120 Acc: 0.6939 | Val Loss: 1.5589 Acc: 0.4436\n"
     ]
    },
    {
     "name": "stderr",
     "output_type": "stream",
     "text": [
      "Epoch 23/50: 100%|██████████| 57/57 [00:16<00:00,  3.53batch/s, loss=0.9146]\n"
     ]
    },
    {
     "name": "stdout",
     "output_type": "stream",
     "text": [
      "Epoch 23/50 Train Loss: 0.7914 Acc: 0.7046 | Val Loss: 1.7218 Acc: 0.4101\n"
     ]
    },
    {
     "name": "stderr",
     "output_type": "stream",
     "text": [
      "Epoch 24/50: 100%|██████████| 57/57 [00:16<00:00,  3.54batch/s, loss=1.0295]\n"
     ]
    },
    {
     "name": "stdout",
     "output_type": "stream",
     "text": [
      "Epoch 24/50 Train Loss: 0.7712 Acc: 0.7117 | Val Loss: 1.9195 Acc: 0.3675\n"
     ]
    },
    {
     "name": "stderr",
     "output_type": "stream",
     "text": [
      "Epoch 25/50: 100%|██████████| 57/57 [00:16<00:00,  3.55batch/s, loss=0.7781]\n"
     ]
    },
    {
     "name": "stdout",
     "output_type": "stream",
     "text": [
      "Epoch 25/50 Train Loss: 0.7660 Acc: 0.7156 | Val Loss: 1.7611 Acc: 0.3954\n"
     ]
    },
    {
     "name": "stderr",
     "output_type": "stream",
     "text": [
      "Epoch 26/50: 100%|██████████| 57/57 [00:15<00:00,  3.59batch/s, loss=0.7821]\n"
     ]
    },
    {
     "name": "stdout",
     "output_type": "stream",
     "text": [
      "Epoch 26/50 Train Loss: 0.7472 Acc: 0.7192 | Val Loss: 1.6251 Acc: 0.4344\n"
     ]
    },
    {
     "name": "stderr",
     "output_type": "stream",
     "text": [
      "Epoch 27/50: 100%|██████████| 57/57 [00:16<00:00,  3.42batch/s, loss=0.7925]\n"
     ]
    },
    {
     "name": "stdout",
     "output_type": "stream",
     "text": [
      "Epoch 27/50 Train Loss: 0.7514 Acc: 0.7178 | Val Loss: 1.8328 Acc: 0.3837\n"
     ]
    },
    {
     "name": "stderr",
     "output_type": "stream",
     "text": [
      "Epoch 28/50: 100%|██████████| 57/57 [00:15<00:00,  3.65batch/s, loss=0.8338]\n"
     ]
    },
    {
     "name": "stdout",
     "output_type": "stream",
     "text": [
      "Epoch 28/50 Train Loss: 0.7404 Acc: 0.7253 | Val Loss: 1.6283 Acc: 0.4018\n"
     ]
    },
    {
     "name": "stderr",
     "output_type": "stream",
     "text": [
      "Epoch 29/50: 100%|██████████| 57/57 [00:15<00:00,  3.65batch/s, loss=1.0775]\n"
     ]
    },
    {
     "name": "stdout",
     "output_type": "stream",
     "text": [
      "Epoch 29/50 Train Loss: 0.6960 Acc: 0.7377 | Val Loss: 1.8456 Acc: 0.3787\n"
     ]
    },
    {
     "name": "stderr",
     "output_type": "stream",
     "text": [
      "Epoch 30/50: 100%|██████████| 57/57 [00:15<00:00,  3.65batch/s, loss=0.5445]\n"
     ]
    },
    {
     "name": "stdout",
     "output_type": "stream",
     "text": [
      "Epoch 30/50 Train Loss: 0.6931 Acc: 0.7401 | Val Loss: 1.8173 Acc: 0.4051\n"
     ]
    },
    {
     "name": "stderr",
     "output_type": "stream",
     "text": [
      "Epoch 31/50: 100%|██████████| 57/57 [00:15<00:00,  3.67batch/s, loss=0.9043]\n"
     ]
    },
    {
     "name": "stdout",
     "output_type": "stream",
     "text": [
      "Epoch 31/50 Train Loss: 0.6606 Acc: 0.7546 | Val Loss: 2.0691 Acc: 0.3982\n"
     ]
    },
    {
     "name": "stderr",
     "output_type": "stream",
     "text": [
      "Epoch 32/50: 100%|██████████| 57/57 [00:15<00:00,  3.62batch/s, loss=0.6939]\n"
     ]
    },
    {
     "name": "stdout",
     "output_type": "stream",
     "text": [
      "Epoch 32/50 Train Loss: 0.6642 Acc: 0.7538 | Val Loss: 2.1442 Acc: 0.3330\n"
     ]
    },
    {
     "name": "stderr",
     "output_type": "stream",
     "text": [
      "Epoch 33/50: 100%|██████████| 57/57 [00:15<00:00,  3.59batch/s, loss=0.6608]\n"
     ]
    },
    {
     "name": "stdout",
     "output_type": "stream",
     "text": [
      "Epoch 33/50 Train Loss: 0.6288 Acc: 0.7679 | Val Loss: 1.8130 Acc: 0.4071\n"
     ]
    },
    {
     "name": "stderr",
     "output_type": "stream",
     "text": [
      "Epoch 34/50: 100%|██████████| 57/57 [00:16<00:00,  3.48batch/s, loss=0.4438]\n"
     ]
    },
    {
     "name": "stdout",
     "output_type": "stream",
     "text": [
      "Epoch 34/50 Train Loss: 0.6118 Acc: 0.7717 | Val Loss: 1.7947 Acc: 0.4544\n"
     ]
    },
    {
     "name": "stderr",
     "output_type": "stream",
     "text": [
      "Epoch 35/50: 100%|██████████| 57/57 [00:16<00:00,  3.50batch/s, loss=0.5633]\n"
     ]
    },
    {
     "name": "stdout",
     "output_type": "stream",
     "text": [
      "Epoch 35/50 Train Loss: 0.5868 Acc: 0.7816 | Val Loss: 2.7115 Acc: 0.3179\n"
     ]
    },
    {
     "name": "stderr",
     "output_type": "stream",
     "text": [
      "Epoch 36/50: 100%|██████████| 57/57 [00:15<00:00,  3.58batch/s, loss=0.7465]\n"
     ]
    },
    {
     "name": "stdout",
     "output_type": "stream",
     "text": [
      "Epoch 36/50 Train Loss: 0.5875 Acc: 0.7836 | Val Loss: 2.4537 Acc: 0.3970\n"
     ]
    },
    {
     "name": "stderr",
     "output_type": "stream",
     "text": [
      "Epoch 37/50: 100%|██████████| 57/57 [00:15<00:00,  3.62batch/s, loss=0.7472]\n"
     ]
    },
    {
     "name": "stdout",
     "output_type": "stream",
     "text": [
      "Epoch 37/50 Train Loss: 0.6910 Acc: 0.7448 | Val Loss: 2.1630 Acc: 0.3700\n"
     ]
    },
    {
     "name": "stderr",
     "output_type": "stream",
     "text": [
      "Epoch 38/50: 100%|██████████| 57/57 [00:16<00:00,  3.51batch/s, loss=0.9153]\n"
     ]
    },
    {
     "name": "stdout",
     "output_type": "stream",
     "text": [
      "Epoch 38/50 Train Loss: 0.5738 Acc: 0.7878 | Val Loss: 2.3764 Acc: 0.3452\n"
     ]
    },
    {
     "name": "stderr",
     "output_type": "stream",
     "text": [
      "Epoch 39/50: 100%|██████████| 57/57 [00:15<00:00,  3.58batch/s, loss=0.5442]\n"
     ]
    },
    {
     "name": "stdout",
     "output_type": "stream",
     "text": [
      "Epoch 39/50 Train Loss: 0.5706 Acc: 0.7860 | Val Loss: 2.6872 Acc: 0.3243\n"
     ]
    },
    {
     "name": "stderr",
     "output_type": "stream",
     "text": [
      "Epoch 40/50: 100%|██████████| 57/57 [00:15<00:00,  3.63batch/s, loss=0.4359]\n"
     ]
    },
    {
     "name": "stdout",
     "output_type": "stream",
     "text": [
      "Epoch 40/50 Train Loss: 0.5860 Acc: 0.7850 | Val Loss: 3.1584 Acc: 0.2680\n"
     ]
    },
    {
     "name": "stderr",
     "output_type": "stream",
     "text": [
      "Epoch 41/50: 100%|██████████| 57/57 [00:16<00:00,  3.39batch/s, loss=0.7865]\n"
     ]
    },
    {
     "name": "stdout",
     "output_type": "stream",
     "text": [
      "Epoch 41/50 Train Loss: 0.5333 Acc: 0.8009 | Val Loss: 2.6149 Acc: 0.3048\n"
     ]
    },
    {
     "name": "stderr",
     "output_type": "stream",
     "text": [
      "Epoch 42/50: 100%|██████████| 57/57 [00:16<00:00,  3.52batch/s, loss=0.6473]\n"
     ]
    },
    {
     "name": "stdout",
     "output_type": "stream",
     "text": [
      "Epoch 42/50 Train Loss: 0.5139 Acc: 0.8098 | Val Loss: 2.2468 Acc: 0.3948\n"
     ]
    },
    {
     "name": "stderr",
     "output_type": "stream",
     "text": [
      "Epoch 43/50: 100%|██████████| 57/57 [00:16<00:00,  3.47batch/s, loss=0.4473]\n"
     ]
    },
    {
     "name": "stdout",
     "output_type": "stream",
     "text": [
      "Epoch 43/50 Train Loss: 0.5017 Acc: 0.8172 | Val Loss: 2.9258 Acc: 0.3558\n"
     ]
    },
    {
     "name": "stderr",
     "output_type": "stream",
     "text": [
      "Epoch 44/50: 100%|██████████| 57/57 [00:17<00:00,  3.18batch/s, loss=0.5287]\n"
     ]
    },
    {
     "name": "stdout",
     "output_type": "stream",
     "text": [
      "Epoch 44/50 Train Loss: 0.4733 Acc: 0.8252 | Val Loss: 3.7379 Acc: 0.3082\n"
     ]
    },
    {
     "name": "stderr",
     "output_type": "stream",
     "text": [
      "Epoch 45/50: 100%|██████████| 57/57 [00:16<00:00,  3.45batch/s, loss=0.6475]\n"
     ]
    },
    {
     "name": "stdout",
     "output_type": "stream",
     "text": [
      "Epoch 45/50 Train Loss: 0.4549 Acc: 0.8337 | Val Loss: 3.1378 Acc: 0.3316\n"
     ]
    },
    {
     "name": "stderr",
     "output_type": "stream",
     "text": [
      "Epoch 46/50: 100%|██████████| 57/57 [00:17<00:00,  3.34batch/s, loss=0.2471]\n"
     ]
    },
    {
     "name": "stdout",
     "output_type": "stream",
     "text": [
      "Epoch 46/50 Train Loss: 0.4673 Acc: 0.8275 | Val Loss: 3.4510 Acc: 0.2616\n"
     ]
    },
    {
     "name": "stderr",
     "output_type": "stream",
     "text": [
      "Epoch 47/50: 100%|██████████| 57/57 [00:17<00:00,  3.24batch/s, loss=0.3796]\n"
     ]
    },
    {
     "name": "stdout",
     "output_type": "stream",
     "text": [
      "Epoch 47/50 Train Loss: 0.3921 Acc: 0.8556 | Val Loss: 3.2304 Acc: 0.3143\n"
     ]
    },
    {
     "name": "stderr",
     "output_type": "stream",
     "text": [
      "Epoch 48/50: 100%|██████████| 57/57 [00:16<00:00,  3.37batch/s, loss=0.6911]\n"
     ]
    },
    {
     "name": "stdout",
     "output_type": "stream",
     "text": [
      "Epoch 48/50 Train Loss: 0.3969 Acc: 0.8533 | Val Loss: 2.8149 Acc: 0.3583\n"
     ]
    },
    {
     "name": "stderr",
     "output_type": "stream",
     "text": [
      "Epoch 49/50: 100%|██████████| 57/57 [00:16<00:00,  3.46batch/s, loss=0.6495]\n"
     ]
    },
    {
     "name": "stdout",
     "output_type": "stream",
     "text": [
      "Epoch 49/50 Train Loss: 0.4495 Acc: 0.8343 | Val Loss: 3.8886 Acc: 0.3190\n"
     ]
    },
    {
     "name": "stderr",
     "output_type": "stream",
     "text": [
      "Epoch 50/50: 100%|██████████| 57/57 [00:16<00:00,  3.49batch/s, loss=0.6639]\n"
     ]
    },
    {
     "name": "stdout",
     "output_type": "stream",
     "text": [
      "Epoch 50/50 Train Loss: 0.4205 Acc: 0.8465 | Val Loss: 2.7488 Acc: 0.3608\n"
     ]
    },
    {
     "name": "stderr",
     "output_type": "stream",
     "text": [
      "Epoch 51/50: 100%|██████████| 57/57 [00:16<00:00,  3.41batch/s, loss=0.3222]\n"
     ]
    },
    {
     "name": "stdout",
     "output_type": "stream",
     "text": [
      "Epoch 51/50 Train Loss: 0.4050 Acc: 0.8510 | Val Loss: 3.2820 Acc: 0.3402\n"
     ]
    }
   ],
   "source": [
    "resnet_trainer.train()"
   ]
  }
 ],
 "metadata": {
  "kernelspec": {
   "display_name": "venv",
   "language": "python",
   "name": "python3"
  },
  "language_info": {
   "codemirror_mode": {
    "name": "ipython",
    "version": 3
   },
   "file_extension": ".py",
   "mimetype": "text/x-python",
   "name": "python",
   "nbconvert_exporter": "python",
   "pygments_lexer": "ipython3",
   "version": "3.11.11"
  }
 },
 "nbformat": 4,
 "nbformat_minor": 5
}
